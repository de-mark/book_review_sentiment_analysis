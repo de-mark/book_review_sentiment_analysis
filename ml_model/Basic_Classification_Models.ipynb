{
  "nbformat": 4,
  "nbformat_minor": 0,
  "metadata": {
    "colab": {
      "provenance": []
    },
    "kernelspec": {
      "name": "python3",
      "display_name": "Python 3"
    },
    "language_info": {
      "name": "python"
    }
  },
  "cells": [
    {
      "cell_type": "markdown",
      "source": [
        "# Using Class Supplied Sentiment Class to Predict Sentiment of Future Reviews"
      ],
      "metadata": {
        "id": "7MF8TOQHzCOb"
      }
    },
    {
      "cell_type": "markdown",
      "source": [
        "## Data Evaluation and Preprocessing"
      ],
      "metadata": {
        "id": "HCxSItFOzPGp"
      }
    },
    {
      "cell_type": "code",
      "execution_count": 1,
      "metadata": {
        "colab": {
          "base_uri": "https://localhost:8080/"
        },
        "id": "v5OoThbzejbz",
        "outputId": "63411982-3ad9-4768-e274-eefd882a60e7"
      },
      "outputs": [
        {
          "output_type": "stream",
          "name": "stderr",
          "text": [
            "[nltk_data] Downloading package punkt to /root/nltk_data...\n",
            "[nltk_data]   Package punkt is already up-to-date!\n"
          ]
        }
      ],
      "source": [
        "# General Data Manipulation / EDA\n",
        "import pandas as pd\n",
        "import matplotlib.pyplot as plt\n",
        "import numpy as np\n",
        "import seaborn as sb\n",
        "from os.path import join\n",
        "from collections import Counter, OrderedDict\n",
        "\n",
        "# Natural Language Processing\n",
        "import nltk\n",
        "nltk.download('punkt')\n",
        "from nltk.tokenize import word_tokenize\n",
        "from sklearn.feature_extraction.text import TfidfVectorizer\n",
        "import gensim\n",
        "from sklearn.model_selection import train_test_split # Since our data is independent and not time related\n",
        "\n",
        "# Machine Learning\n",
        "from sklearn.linear_model import LogisticRegression\n",
        "from sklearn.naive_bayes import GaussianNB\n",
        "from sklearn.ensemble import RandomForestClassifier\n",
        "import tensorflow as tf\n",
        "tf.random.set_seed(42)\n",
        "from tensorflow.keras.models import Sequential\n",
        "from tensorflow.keras.layers import Dense\n",
        "from tensorflow.keras.layers import LSTM\n",
        "from tensorflow.keras.layers import Embedding\n",
        "from tensorflow.keras.layers import Dropout\n",
        "from tensorflow.keras.preprocessing import sequence\n",
        "\n",
        "from sklearn.metrics import roc_auc_score\n",
        "\n",
        "BOOK_REVIEWS_PATH = join(\"data\", \"bookReviewsData.csv\")\n",
        "SCRAPED_REVIEWS_PATH = join(\"data\", \"embed_reviews.csv\")"
      ]
    },
    {
      "cell_type": "code",
      "source": [
        "def make_border(txt):\n",
        "  print()\n",
        "  print(\"-\"*10, txt.upper(), \"-\"*10)"
      ],
      "metadata": {
        "id": "QumInEQpgS1T"
      },
      "execution_count": 2,
      "outputs": []
    },
    {
      "cell_type": "markdown",
      "source": [
        "### Examining the Raw Data"
      ],
      "metadata": {
        "id": "vXLEAI9As7S8"
      }
    },
    {
      "cell_type": "code",
      "source": [
        "raw_df = pd.read_csv(BOOK_REVIEWS_PATH)\n",
        "raw_df.columns = [\"text\", \"sentiment\"]\n",
        "make_border(\"Checking CSV\")\n",
        "raw_df.info()"
      ],
      "metadata": {
        "colab": {
          "base_uri": "https://localhost:8080/"
        },
        "id": "Ww0OVMYXfnah",
        "outputId": "5c4148bd-9196-479e-9b15-cb3d97dc312d"
      },
      "execution_count": 3,
      "outputs": [
        {
          "output_type": "stream",
          "name": "stdout",
          "text": [
            "\n",
            "---------- CHECKING CSV ----------\n",
            "<class 'pandas.core.frame.DataFrame'>\n",
            "RangeIndex: 1973 entries, 0 to 1972\n",
            "Data columns (total 2 columns):\n",
            " #   Column     Non-Null Count  Dtype \n",
            "---  ------     --------------  ----- \n",
            " 0   text       1973 non-null   object\n",
            " 1   sentiment  1973 non-null   bool  \n",
            "dtypes: bool(1), object(1)\n",
            "memory usage: 17.5+ KB\n"
          ]
        }
      ]
    },
    {
      "cell_type": "code",
      "source": [
        "make_border(\"Checking Null Values\")\n",
        "print(raw_df.isna().sum())\n",
        "make_border(\"Checking for Blank Reviews\")\n",
        "raw_df.loc[raw_df.text == \"\"]"
      ],
      "metadata": {
        "colab": {
          "base_uri": "https://localhost:8080/",
          "height": 171
        },
        "id": "Z3CnNgijgBPI",
        "outputId": "54413151-1d81-4667-e348-08866b51122f"
      },
      "execution_count": 4,
      "outputs": [
        {
          "output_type": "stream",
          "name": "stdout",
          "text": [
            "\n",
            "---------- CHECKING NULL VALUES ----------\n",
            "text         0\n",
            "sentiment    0\n",
            "dtype: int64\n",
            "\n",
            "---------- CHECKING FOR BLANK REVIEWS ----------\n"
          ]
        },
        {
          "output_type": "execute_result",
          "data": {
            "text/plain": [
              "Empty DataFrame\n",
              "Columns: [text, sentiment]\n",
              "Index: []"
            ],
            "text/html": [
              "\n",
              "\n",
              "  <div id=\"df-ae9059fd-c2b5-46dd-babc-0f88aa766de2\">\n",
              "    <div class=\"colab-df-container\">\n",
              "      <div>\n",
              "<style scoped>\n",
              "    .dataframe tbody tr th:only-of-type {\n",
              "        vertical-align: middle;\n",
              "    }\n",
              "\n",
              "    .dataframe tbody tr th {\n",
              "        vertical-align: top;\n",
              "    }\n",
              "\n",
              "    .dataframe thead th {\n",
              "        text-align: right;\n",
              "    }\n",
              "</style>\n",
              "<table border=\"1\" class=\"dataframe\">\n",
              "  <thead>\n",
              "    <tr style=\"text-align: right;\">\n",
              "      <th></th>\n",
              "      <th>text</th>\n",
              "      <th>sentiment</th>\n",
              "    </tr>\n",
              "  </thead>\n",
              "  <tbody>\n",
              "  </tbody>\n",
              "</table>\n",
              "</div>\n",
              "      <button class=\"colab-df-convert\" onclick=\"convertToInteractive('df-ae9059fd-c2b5-46dd-babc-0f88aa766de2')\"\n",
              "              title=\"Convert this dataframe to an interactive table.\"\n",
              "              style=\"display:none;\">\n",
              "\n",
              "  <svg xmlns=\"http://www.w3.org/2000/svg\" height=\"24px\"viewBox=\"0 0 24 24\"\n",
              "       width=\"24px\">\n",
              "    <path d=\"M0 0h24v24H0V0z\" fill=\"none\"/>\n",
              "    <path d=\"M18.56 5.44l.94 2.06.94-2.06 2.06-.94-2.06-.94-.94-2.06-.94 2.06-2.06.94zm-11 1L8.5 8.5l.94-2.06 2.06-.94-2.06-.94L8.5 2.5l-.94 2.06-2.06.94zm10 10l.94 2.06.94-2.06 2.06-.94-2.06-.94-.94-2.06-.94 2.06-2.06.94z\"/><path d=\"M17.41 7.96l-1.37-1.37c-.4-.4-.92-.59-1.43-.59-.52 0-1.04.2-1.43.59L10.3 9.45l-7.72 7.72c-.78.78-.78 2.05 0 2.83L4 21.41c.39.39.9.59 1.41.59.51 0 1.02-.2 1.41-.59l7.78-7.78 2.81-2.81c.8-.78.8-2.07 0-2.86zM5.41 20L4 18.59l7.72-7.72 1.47 1.35L5.41 20z\"/>\n",
              "  </svg>\n",
              "      </button>\n",
              "\n",
              "\n",
              "\n",
              "    <div id=\"df-8f1af086-1e00-492d-8fe7-11c4f2e3ad4f\">\n",
              "      <button class=\"colab-df-quickchart\" onclick=\"quickchart('df-8f1af086-1e00-492d-8fe7-11c4f2e3ad4f')\"\n",
              "              title=\"Suggest charts.\"\n",
              "              style=\"display:none;\">\n",
              "\n",
              "<svg xmlns=\"http://www.w3.org/2000/svg\" height=\"24px\"viewBox=\"0 0 24 24\"\n",
              "     width=\"24px\">\n",
              "    <g>\n",
              "        <path d=\"M19 3H5c-1.1 0-2 .9-2 2v14c0 1.1.9 2 2 2h14c1.1 0 2-.9 2-2V5c0-1.1-.9-2-2-2zM9 17H7v-7h2v7zm4 0h-2V7h2v10zm4 0h-2v-4h2v4z\"/>\n",
              "    </g>\n",
              "</svg>\n",
              "      </button>\n",
              "    </div>\n",
              "\n",
              "<style>\n",
              "  .colab-df-quickchart {\n",
              "    background-color: #E8F0FE;\n",
              "    border: none;\n",
              "    border-radius: 50%;\n",
              "    cursor: pointer;\n",
              "    display: none;\n",
              "    fill: #1967D2;\n",
              "    height: 32px;\n",
              "    padding: 0 0 0 0;\n",
              "    width: 32px;\n",
              "  }\n",
              "\n",
              "  .colab-df-quickchart:hover {\n",
              "    background-color: #E2EBFA;\n",
              "    box-shadow: 0px 1px 2px rgba(60, 64, 67, 0.3), 0px 1px 3px 1px rgba(60, 64, 67, 0.15);\n",
              "    fill: #174EA6;\n",
              "  }\n",
              "\n",
              "  [theme=dark] .colab-df-quickchart {\n",
              "    background-color: #3B4455;\n",
              "    fill: #D2E3FC;\n",
              "  }\n",
              "\n",
              "  [theme=dark] .colab-df-quickchart:hover {\n",
              "    background-color: #434B5C;\n",
              "    box-shadow: 0px 1px 3px 1px rgba(0, 0, 0, 0.15);\n",
              "    filter: drop-shadow(0px 1px 2px rgba(0, 0, 0, 0.3));\n",
              "    fill: #FFFFFF;\n",
              "  }\n",
              "</style>\n",
              "\n",
              "    <script>\n",
              "      async function quickchart(key) {\n",
              "        const containerElement = document.querySelector('#' + key);\n",
              "        const charts = await google.colab.kernel.invokeFunction(\n",
              "            'suggestCharts', [key], {});\n",
              "      }\n",
              "    </script>\n",
              "\n",
              "      <script>\n",
              "\n",
              "function displayQuickchartButton(domScope) {\n",
              "  let quickchartButtonEl =\n",
              "    domScope.querySelector('#df-8f1af086-1e00-492d-8fe7-11c4f2e3ad4f button.colab-df-quickchart');\n",
              "  quickchartButtonEl.style.display =\n",
              "    google.colab.kernel.accessAllowed ? 'block' : 'none';\n",
              "}\n",
              "\n",
              "        displayQuickchartButton(document);\n",
              "      </script>\n",
              "      <style>\n",
              "    .colab-df-container {\n",
              "      display:flex;\n",
              "      flex-wrap:wrap;\n",
              "      gap: 12px;\n",
              "    }\n",
              "\n",
              "    .colab-df-convert {\n",
              "      background-color: #E8F0FE;\n",
              "      border: none;\n",
              "      border-radius: 50%;\n",
              "      cursor: pointer;\n",
              "      display: none;\n",
              "      fill: #1967D2;\n",
              "      height: 32px;\n",
              "      padding: 0 0 0 0;\n",
              "      width: 32px;\n",
              "    }\n",
              "\n",
              "    .colab-df-convert:hover {\n",
              "      background-color: #E2EBFA;\n",
              "      box-shadow: 0px 1px 2px rgba(60, 64, 67, 0.3), 0px 1px 3px 1px rgba(60, 64, 67, 0.15);\n",
              "      fill: #174EA6;\n",
              "    }\n",
              "\n",
              "    [theme=dark] .colab-df-convert {\n",
              "      background-color: #3B4455;\n",
              "      fill: #D2E3FC;\n",
              "    }\n",
              "\n",
              "    [theme=dark] .colab-df-convert:hover {\n",
              "      background-color: #434B5C;\n",
              "      box-shadow: 0px 1px 3px 1px rgba(0, 0, 0, 0.15);\n",
              "      filter: drop-shadow(0px 1px 2px rgba(0, 0, 0, 0.3));\n",
              "      fill: #FFFFFF;\n",
              "    }\n",
              "  </style>\n",
              "\n",
              "      <script>\n",
              "        const buttonEl =\n",
              "          document.querySelector('#df-ae9059fd-c2b5-46dd-babc-0f88aa766de2 button.colab-df-convert');\n",
              "        buttonEl.style.display =\n",
              "          google.colab.kernel.accessAllowed ? 'block' : 'none';\n",
              "\n",
              "        async function convertToInteractive(key) {\n",
              "          const element = document.querySelector('#df-ae9059fd-c2b5-46dd-babc-0f88aa766de2');\n",
              "          const dataTable =\n",
              "            await google.colab.kernel.invokeFunction('convertToInteractive',\n",
              "                                                     [key], {});\n",
              "          if (!dataTable) return;\n",
              "\n",
              "          const docLinkHtml = 'Like what you see? Visit the ' +\n",
              "            '<a target=\"_blank\" href=https://colab.research.google.com/notebooks/data_table.ipynb>data table notebook</a>'\n",
              "            + ' to learn more about interactive tables.';\n",
              "          element.innerHTML = '';\n",
              "          dataTable['output_type'] = 'display_data';\n",
              "          await google.colab.output.renderOutput(dataTable, element);\n",
              "          const docLink = document.createElement('div');\n",
              "          docLink.innerHTML = docLinkHtml;\n",
              "          element.appendChild(docLink);\n",
              "        }\n",
              "      </script>\n",
              "    </div>\n",
              "  </div>\n"
            ]
          },
          "metadata": {},
          "execution_count": 4
        }
      ]
    },
    {
      "cell_type": "code",
      "source": [
        "make_border(\"Checking Class Balance\")\n",
        "print(raw_df.sentiment.value_counts(), \"\\n\")\n",
        "raw_df.sentiment.value_counts().plot.bar(title=\"Class Balance\", ylabel=\"Number of examples\", xlabel=\"Sentiment Value\",\n",
        "                                         color=[\"grey\", \"steelblue\"])\n",
        "plt.xticks([0,1], labels=[\"Negative\", \"Positive\"])\n",
        "plt.show()"
      ],
      "metadata": {
        "colab": {
          "base_uri": "https://localhost:8080/",
          "height": 624
        },
        "id": "WqX4XZvTgI7r",
        "outputId": "dcb33ed7-fd9b-4635-d4ee-b6b49564b44b"
      },
      "execution_count": 5,
      "outputs": [
        {
          "output_type": "stream",
          "name": "stdout",
          "text": [
            "\n",
            "---------- CHECKING CLASS BALANCE ----------\n",
            "False    993\n",
            "True     980\n",
            "Name: sentiment, dtype: int64 \n",
            "\n"
          ]
        },
        {
          "output_type": "display_data",
          "data": {
            "text/plain": [
              "<Figure size 640x480 with 1 Axes>"
            ],
            "image/png": "[encoded data removed]"
          },
          "metadata": {}
        }
      ]
    },
    {
      "cell_type": "code",
      "source": [
        "entry_lengths = raw_df.text.map(lambda x: len(x))\n",
        "make_border(\"Checking number of letters in each row\")\n",
        "print(entry_lengths.describe())\n",
        "print()\n",
        "entry_lengths.plot.density(title=\"Distribution of Number of Letters per Example\",\n",
        "                           color=\"steelblue\")\n",
        "plt.xlabel(\"Number of letters\")\n",
        "plt.ylabel(\"Frequency of entries with this number of letters\")\n",
        "plt.xlim(left=0, right=entry_lengths.max())\n",
        "plt.show()\n",
        "print()\n",
        "entry_lengths.plot.hist(title=\"Distribution of Number of Letters per Example\",\n",
        "                           color=\"steelblue\")\n",
        "plt.xlabel(\"Number of letters\")\n",
        "plt.ylabel(\"Frequency of entries with this number of letters\")\n",
        "plt.show()"
      ],
      "metadata": {
        "colab": {
          "base_uri": "https://localhost:8080/",
          "height": 1000
        },
        "id": "PD1fzxlmjhMz",
        "outputId": "1553a797-78e6-4195-87f0-b6e09a00423a"
      },
      "execution_count": 6,
      "outputs": [
        {
          "output_type": "stream",
          "name": "stdout",
          "text": [
            "\n",
            "---------- CHECKING NUMBER OF LETTERS IN EACH ROW ----------\n",
            "count     1973.000000\n",
            "mean       933.336036\n",
            "std       1450.187183\n",
            "min         59.000000\n",
            "25%        331.000000\n",
            "50%        586.000000\n",
            "75%       1065.000000\n",
            "max      32467.000000\n",
            "Name: text, dtype: float64\n",
            "\n"
          ]
        },
        {
          "output_type": "display_data",
          "data": {
            "text/plain": [
              "<Figure size 640x480 with 1 Axes>"
            ],
            "image/png": "[encoded data removed]"
          },
          "metadata": {}
        },
        {
          "output_type": "stream",
          "name": "stdout",
          "text": [
            "\n"
          ]
        },
        {
          "output_type": "display_data",
          "data": {
            "text/plain": [
              "<Figure size 640x480 with 1 Axes>"
            ],
            "image/png": "[encoded data removed]"
          },
          "metadata": {}
        }
      ]
    },
    {
      "cell_type": "code",
      "source": [
        "raw_df[\"text_stripped\"] = raw_df.text.map(lambda row: [w for w in row.lower().split(\" \") if w != \"\" and w.isalpha()])\n",
        "raw_df.text_stripped"
      ],
      "metadata": {
        "colab": {
          "base_uri": "https://localhost:8080/"
        },
        "id": "pOnH-ukKsmie",
        "outputId": "1ccb11ad-6677-4005-99e1-1c7b264d30ce"
      },
      "execution_count": 7,
      "outputs": [
        {
          "output_type": "execute_result",
          "data": {
            "text/plain": [
              "0       [this, was, perhaps, the, best, of, johannes, ...\n",
              "1       [this, very, fascinating, book, is, a, story, ...\n",
              "2       [the, four, tales, in, this, collection, are, ...\n",
              "3       [the, book, contained, more, profanity, than, ...\n",
              "4       [we, have, now, entered, a, second, time, of, ...\n",
              "                              ...                        \n",
              "1968    [i, purchased, the, book, with, the, intention...\n",
              "1969    [there, are, so, many, design, but, the, graph...\n",
              "1970    [i, am, thilled, to, see, this, book, being, a...\n",
              "1971    [as, many, have, stated, before, me, the, book...\n",
              "1972    [i, love, this, it, is, a, terrific, blend, of...\n",
              "Name: text_stripped, Length: 1973, dtype: object"
            ]
          },
          "metadata": {},
          "execution_count": 7
        }
      ]
    },
    {
      "cell_type": "code",
      "source": [
        "make_border(\"Checking Top Vocab Overall\")\n",
        "\n",
        "print(\"You'll notice the top words are typically stop words.\")\n",
        "\n",
        "print(\"The plan is to compare TF-IDF and  word embedding, so we don't have to remove these. TF-IDF and word embedding have built-in ways of minimizing the disproportionate impact of stop words.\")\n",
        "\n",
        "text_count = {}\n",
        "\n",
        "for row in raw_df.text_stripped.values:\n",
        "  for k, v in dict(Counter(row)).items():\n",
        "    if k in text_count:\n",
        "      text_count[k] += v\n",
        "    else:\n",
        "      text_count[k] = v\n",
        "\n",
        "text_count = {k:v for k, v in sorted(text_count.items(), key=lambda t: t[1], reverse=True)}\n",
        "\n",
        "for i, w in enumerate(list(text_count.items())[:100]):\n",
        "  print(f\"{i+1}. {w[0]} ({w[1]:,})\")"
      ],
      "metadata": {
        "colab": {
          "base_uri": "https://localhost:8080/"
        },
        "id": "xkgwsUvhvU91",
        "outputId": "140c00c5-fbfd-4a41-baab-2b1666db2cbb"
      },
      "execution_count": 8,
      "outputs": [
        {
          "output_type": "stream",
          "name": "stdout",
          "text": [
            "\n",
            "---------- CHECKING TOP VOCAB OVERALL ----------\n",
            "You'll notice the top words are typically stop words.\n",
            "The plan is to compare TF-IDF and  word embedding, so we don't have to remove these. TF-IDF and word embedding have built-in ways of minimizing the disproportionate impact of stop words.\n",
            "1. the (16,410)\n",
            "2. of (9,325)\n",
            "3. and (8,924)\n",
            "4. to (8,489)\n",
            "5. a (7,776)\n",
            "6. is (5,416)\n",
            "7. in (5,066)\n",
            "8. i (4,935)\n",
            "9. this (4,198)\n",
            "10. that (3,854)\n",
            "11. it (3,364)\n",
            "12. book (3,064)\n",
            "13. for (2,790)\n",
            "14. with (2,237)\n",
            "15. as (2,218)\n",
            "16. was (2,083)\n",
            "17. not (1,987)\n",
            "18. are (1,879)\n",
            "19. but (1,842)\n",
            "20. on (1,763)\n",
            "21. you (1,700)\n",
            "22. have (1,624)\n",
            "23. he (1,517)\n",
            "24. be (1,515)\n",
            "25. his (1,495)\n",
            "26. or (1,229)\n",
            "27. by (1,187)\n",
            "28. about (1,178)\n",
            "29. an (1,149)\n",
            "30. from (1,144)\n",
            "31. one (1,063)\n",
            "32. at (1,022)\n",
            "33. my (1,005)\n",
            "34. all (996)\n",
            "35. if (995)\n",
            "36. who (984)\n",
            "37. has (918)\n",
            "38. so (918)\n",
            "39. read (909)\n",
            "40. what (874)\n",
            "41. they (860)\n",
            "42. more (854)\n",
            "43. her (817)\n",
            "44. would (801)\n",
            "45. like (765)\n",
            "46. just (736)\n",
            "47. very (734)\n",
            "48. will (718)\n",
            "49. can (715)\n",
            "50. some (701)\n",
            "51. how (685)\n",
            "52. there (659)\n",
            "53. which (632)\n",
            "54. their (629)\n",
            "55. when (620)\n",
            "56. we (613)\n",
            "57. out (601)\n",
            "58. only (583)\n",
            "59. she (575)\n",
            "60. no (570)\n",
            "61. had (558)\n",
            "62. than (554)\n",
            "63. many (544)\n",
            "64. even (534)\n",
            "65. into (518)\n",
            "66. do (517)\n",
            "67. other (513)\n",
            "68. me (508)\n",
            "69. good (503)\n",
            "70. your (502)\n",
            "71. were (500)\n",
            "72. much (499)\n",
            "73. up (479)\n",
            "74. most (473)\n",
            "75. any (460)\n",
            "76. been (455)\n",
            "77. get (453)\n",
            "78. people (442)\n",
            "79. really (440)\n",
            "80. because (439)\n",
            "81. great (433)\n",
            "82. also (420)\n",
            "83. books (419)\n",
            "84. first (418)\n",
            "85. its (401)\n",
            "86. could (401)\n",
            "87. time (398)\n",
            "88. these (389)\n",
            "89. reading (378)\n",
            "90. author (377)\n",
            "91. story (373)\n",
            "92. does (358)\n",
            "93. new (358)\n",
            "94. make (358)\n",
            "95. our (356)\n",
            "96. then (353)\n",
            "97. know (353)\n",
            "98. after (343)\n",
            "99. such (338)\n",
            "100. find (336)\n"
          ]
        }
      ]
    },
    {
      "cell_type": "markdown",
      "source": [
        "### Creating Features using TF-IDF / Word Embedding"
      ],
      "metadata": {
        "id": "fF7uZsnZBMMo"
      }
    },
    {
      "cell_type": "code",
      "source": [
        "X = raw_df.text\n",
        "y = raw_df.sentiment\n",
        "X_train, X_test, y_train, y_test = train_test_split(X, y, test_size=.75, random_state=42)"
      ],
      "metadata": {
        "id": "86Uiwb3yBkjJ"
      },
      "execution_count": 9,
      "outputs": []
    },
    {
      "cell_type": "code",
      "source": [
        "tfidf = TfidfVectorizer(tokenizer=word_tokenize, token_pattern=None, ngram_range=(1,3))\n",
        "tfidf.fit(X_train)\n",
        "X_train_tf = tfidf.transform(X_train)\n",
        "X_test_tf = tfidf.transform(X_test)"
      ],
      "metadata": {
        "id": "Rr9sJWlc0MyS"
      },
      "execution_count": 10,
      "outputs": []
    },
    {
      "cell_type": "code",
      "source": [
        "# reviews_df = pd.read_csv(SCRAPED_REVIEWS_PATH)\n",
        "# reviews_df.text = reviews_df.text.map(lambda row: gensim.utils.simple_preprocess(row))\n",
        "reviews_df = raw_df.copy()\n",
        "reviews_df.text = reviews_df.text.map(lambda row: gensim.utils.simple_preprocess(row))\n",
        "word2vec_model = gensim.models.Word2Vec(reviews_df.text,\n",
        "                                   vector_size=100,\n",
        "                                   window=5,\n",
        "                                   min_count=2)\n",
        "words = set(word2vec_model.wv.index_to_key)\n",
        "\n",
        "X_train_we = np.array([np.array([word2vec_model.wv[word] for word in words if word in training_example])\n",
        "                        for training_example in X_train], dtype=object)\n",
        "X_test_we = np.array([np.array([word2vec_model.wv[word] for word in words if word in training_example])\n",
        "                        for training_example in X_test], dtype=object)\n",
        "\n",
        "X_train_fv = []\n",
        "for w in X_train_we:\n",
        "    if w.size:\n",
        "        X_train_fv.append(w.mean(axis=0))\n",
        "    else:\n",
        "        X_train_fv.append(np.zeros(100, dtype=float))\n",
        "\n",
        "X_test_fv = []\n",
        "for w in X_test_we:\n",
        "    if w.size:\n",
        "        X_test_fv.append(w.mean(axis=0))\n",
        "    else:\n",
        "        X_test_fv.append(np.zeros(100, dtype=float))"
      ],
      "metadata": {
        "id": "4xR4vnHsHwwd"
      },
      "execution_count": 11,
      "outputs": []
    },
    {
      "cell_type": "markdown",
      "source": [
        "## Logistic Regression"
      ],
      "metadata": {
        "id": "3LRQcGSCTBz1"
      }
    },
    {
      "cell_type": "code",
      "source": [
        "lr_model_tf = LogisticRegression(max_iter=200)\n",
        "lr_model_tf.fit(X_train_tf, y_train)\n",
        "lr_pred_tf = lr_model_tf.predict_proba(X_test_tf)[:,1]\n",
        "\n",
        "lr_auc_tf = roc_auc_score(y_test, lr_pred_tf)\n",
        "make_border(\"Logistic Regression (TF-IDF) AUC\")\n",
        "print(f\"{lr_auc_tf:.2f}\")"
      ],
      "metadata": {
        "colab": {
          "base_uri": "https://localhost:8080/"
        },
        "id": "OeC_u0l1Y77x",
        "outputId": "8d566a2f-0eb2-4b7e-8d24-2f361d9ee78b"
      },
      "execution_count": 12,
      "outputs": [
        {
          "output_type": "stream",
          "name": "stdout",
          "text": [
            "\n",
            "---------- LOGISTIC REGRESSION (TF-IDF) AUC ----------\n",
            "0.83\n"
          ]
        }
      ]
    },
    {
      "cell_type": "code",
      "source": [
        "lr_model_em = LogisticRegression(max_iter=200)\n",
        "lr_model_em.fit(X_train_fv, y_train)\n",
        "lr_pred_em = lr_model_em.predict_proba(X_test_fv)[:,1]\n",
        "\n",
        "lr_auc_em = roc_auc_score(y_test, lr_pred_em)\n",
        "make_border(\"Logistic Regression (WORD EMBED) AUC\")\n",
        "print(f\"{lr_auc_em:.2f}\")"
      ],
      "metadata": {
        "colab": {
          "base_uri": "https://localhost:8080/"
        },
        "id": "Tu9dCupVTFpt",
        "outputId": "fb966b32-20d2-4f49-de53-056cd6f46fc3"
      },
      "execution_count": 13,
      "outputs": [
        {
          "output_type": "stream",
          "name": "stdout",
          "text": [
            "\n",
            "---------- LOGISTIC REGRESSION (WORD EMBED) AUC ----------\n",
            "0.62\n"
          ]
        }
      ]
    },
    {
      "cell_type": "markdown",
      "source": [
        "## Naive Bayes"
      ],
      "metadata": {
        "id": "bc-s-D25TGLN"
      }
    },
    {
      "cell_type": "code",
      "source": [
        "nb_model_tf = GaussianNB()\n",
        "nb_model_tf.fit(X_train_tf.toarray(), y_train)\n",
        "nb_pred_tf = nb_model_tf.predict(X_test_tf.toarray())\n",
        "\n",
        "nb_auc_tf = roc_auc_score(y_test, nb_pred_tf)\n",
        "make_border(\"Gaussian Naive Bayes (TF-IDF) AUC\")\n",
        "print(f\"{nb_auc_tf:.2f}\")"
      ],
      "metadata": {
        "colab": {
          "base_uri": "https://localhost:8080/"
        },
        "id": "GSfin_FeZc0g",
        "outputId": "bc0f0b86-3f81-4c0b-876f-e15c2155c23a"
      },
      "execution_count": 14,
      "outputs": [
        {
          "output_type": "stream",
          "name": "stdout",
          "text": [
            "\n",
            "---------- GAUSSIAN NAIVE BAYES (TF-IDF) AUC ----------\n",
            "0.68\n"
          ]
        }
      ]
    },
    {
      "cell_type": "code",
      "source": [
        "nb_model_em = GaussianNB()\n",
        "nb_model_em.fit(X_train_fv, y_train)\n",
        "nb_pred_em = nb_model_em.predict(X_test_fv)\n",
        "\n",
        "nb_auc_em = roc_auc_score(y_test, nb_pred_em)\n",
        "make_border(\"Gaussian Naive Bayes (WORD EMEBD) AUC\")\n",
        "print(f\"{nb_auc_em:.2f}\")"
      ],
      "metadata": {
        "colab": {
          "base_uri": "https://localhost:8080/"
        },
        "id": "fOg-sc8dTJDM",
        "outputId": "c4914de0-88c1-43ce-e2a8-9466cb34abf3"
      },
      "execution_count": 15,
      "outputs": [
        {
          "output_type": "stream",
          "name": "stdout",
          "text": [
            "\n",
            "---------- GAUSSIAN NAIVE BAYES (WORD EMEBD) AUC ----------\n",
            "0.57\n"
          ]
        }
      ]
    },
    {
      "cell_type": "markdown",
      "source": [
        "## Random Forest Classifier"
      ],
      "metadata": {
        "id": "qcsRaiY3TJtV"
      }
    },
    {
      "cell_type": "code",
      "source": [
        "rf_model_tf = RandomForestClassifier()\n",
        "rf_model_tf.fit(X_train_tf, y_train)\n",
        "rf_pred_tf = rf_model_tf.predict(X_test_tf)\n",
        "\n",
        "rf_auc_tf = roc_auc_score(y_test, rf_pred_tf)\n",
        "make_border(\"Random Forest Classifier (TF-IDF) AUC\")\n",
        "print(f\"{rf_auc_tf:.2f}\")"
      ],
      "metadata": {
        "colab": {
          "base_uri": "https://localhost:8080/"
        },
        "id": "aU0hBC24aDop",
        "outputId": "71901aee-f241-42ab-d122-caa0416aaa48"
      },
      "execution_count": 16,
      "outputs": [
        {
          "output_type": "stream",
          "name": "stdout",
          "text": [
            "\n",
            "---------- RANDOM FOREST CLASSIFIER (TF-IDF) AUC ----------\n",
            "0.73\n"
          ]
        }
      ]
    },
    {
      "cell_type": "code",
      "source": [
        "rf_model_em = RandomForestClassifier()\n",
        "rf_model_em.fit(X_train_fv, y_train)\n",
        "rf_pred_em = rf_model_em.predict(X_test_fv)\n",
        "\n",
        "rf_auc_em = roc_auc_score(y_test, rf_pred_em)\n",
        "make_border(\"Random Forest Classifier (WORD EMBED) AUC\")\n",
        "print(f\"{rf_auc_em:.2f}\")"
      ],
      "metadata": {
        "colab": {
          "base_uri": "https://localhost:8080/"
        },
        "id": "ZQaXz46HTMGm",
        "outputId": "0a3f130f-541d-4e69-a6ad-b84794b37d33"
      },
      "execution_count": 17,
      "outputs": [
        {
          "output_type": "stream",
          "name": "stdout",
          "text": [
            "\n",
            "---------- RANDOM FOREST CLASSIFIER (WORD EMBED) AUC ----------\n",
            "0.61\n"
          ]
        }
      ]
    },
    {
      "cell_type": "markdown",
      "source": [
        "## LSTM Neural Network"
      ],
      "metadata": {
        "id": "nVQ6LbhsTMtl"
      }
    },
    {
      "cell_type": "code",
      "source": [
        "max_review_length = 500\n",
        "top_words = 5000\n",
        "embedding_vector_length = 32\n",
        "\n",
        "X_train_fv_nn = sequence.pad_sequences(X_train_fv, maxlen=max_review_length)\n",
        "X_test_fv_nn = sequence.pad_sequences(X_test_fv, maxlen=max_review_length)"
      ],
      "metadata": {
        "id": "sqPva6SUaevY"
      },
      "execution_count": 18,
      "outputs": []
    },
    {
      "cell_type": "code",
      "source": [
        "lstm_model = Sequential()\n",
        "lstm_model.add(Embedding(top_words, embedding_vector_length, input_length=max_review_length))\n",
        "# lstm_model.add(Dropout(0.35))\n",
        "lstm_model.add(LSTM(700))\n",
        "# lstm_model.add(Dropout(0.2))\n",
        "lstm_model.add(Dense(1, activation=\"sigmoid\"))\n",
        "lstm_model.summary()"
      ],
      "metadata": {
        "colab": {
          "base_uri": "https://localhost:8080/"
        },
        "id": "NJrflKj4TQKO",
        "outputId": "f6d23dc1-2769-4a57-9fd9-59c07d295eb0"
      },
      "execution_count": 31,
      "outputs": [
        {
          "output_type": "stream",
          "name": "stdout",
          "text": [
            "Model: \"sequential_4\"\n",
            "_________________________________________________________________\n",
            " Layer (type)                Output Shape              Param #   \n",
            "=================================================================\n",
            " embedding_4 (Embedding)     (None, 500, 32)           160000    \n",
            "                                                                 \n",
            " lstm_4 (LSTM)               (None, 700)               2052400   \n",
            "                                                                 \n",
            " dense_4 (Dense)             (None, 1)                 701       \n",
            "                                                                 \n",
            "=================================================================\n",
            "Total params: 2,213,101\n",
            "Trainable params: 2,213,101\n",
            "Non-trainable params: 0\n",
            "_________________________________________________________________\n"
          ]
        }
      ]
    },
    {
      "cell_type": "code",
      "source": [
        "lstm_model.compile(loss=\"binary_crossentropy\", optimizer=\"adam\", metrics=[\"AUC\"])"
      ],
      "metadata": {
        "id": "Ih5mkhoxUkBT"
      },
      "execution_count": 32,
      "outputs": []
    },
    {
      "cell_type": "code",
      "source": [
        "lstm_model.fit(X_train_fv_nn, y_train, epochs=10)"
      ],
      "metadata": {
        "colab": {
          "base_uri": "https://localhost:8080/"
        },
        "id": "8EHJ7oDDVN1-",
        "outputId": "a61a2c3e-7d53-4f4b-b02d-6adf8fb2b28d"
      },
      "execution_count": null,
      "outputs": [
        {
          "output_type": "stream",
          "name": "stdout",
          "text": [
            "Epoch 1/10\n",
            "16/16 [==============================] - 153s 9s/step - loss: 0.7008 - auc: 0.4866\n",
            "Epoch 2/10\n",
            "16/16 [==============================] - 149s 9s/step - loss: 0.6934 - auc: 0.4722\n",
            "Epoch 3/10\n",
            " 6/16 [==========>...................] - ETA: 1:36 - loss: 0.6930 - auc: 0.5000"
          ]
        }
      ]
    },
    {
      "cell_type": "code",
      "source": [
        "lstm_eval = lstm_model.evaluate(X_test_fv_nn, y_test, verbose=0)\n",
        "make_border(\"LSTM (WORD EMBED) AUC\")\n",
        "lstm_eval[1]"
      ],
      "metadata": {
        "colab": {
          "base_uri": "https://localhost:8080/"
        },
        "id": "V_i1RDDMbfHq",
        "outputId": "eca95b26-4267-40f1-ae42-dccf4944e28d"
      },
      "execution_count": 28,
      "outputs": [
        {
          "output_type": "stream",
          "name": "stdout",
          "text": [
            "\n",
            "---------- LSTM (WORD EMBED) AUC ----------\n"
          ]
        },
        {
          "output_type": "execute_result",
          "data": {
            "text/plain": [
              "0.5"
            ]
          },
          "metadata": {},
          "execution_count": 28
        }
      ]
    }
  ]
}